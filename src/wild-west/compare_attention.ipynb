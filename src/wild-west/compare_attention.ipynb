{
 "cells": [
  {
   "cell_type": "code",
   "execution_count": 2,
   "metadata": {},
   "outputs": [
    {
     "name": "stdout",
     "output_type": "stream",
     "text": [
      "Original Output Shape: torch.Size([2, 8, 8, 64])\n",
      "Optimized Output Shape: torch.Size([2, 8, 8, 64])\n",
      "Difference between outputs: 1.7881393432617188e-07\n",
      "torch.equal: False\n"
     ]
    }
   ],
   "source": [
    "from src.models.segment_anything.modeling.image_encoder import Attention as ImageEncoderAttention, FlashRelativePositionAttention\n",
    "import torch\n",
    "def initialize_weights(module):\n",
    "    if isinstance(module, torch.nn.Linear):\n",
    "        torch.nn.init.xavier_uniform_(module.weight)\n",
    "        if module.bias is not None:\n",
    "            torch.nn.init.zeros_(module.bias)\n",
    "# Test both implementations\n",
    "B, H, W, C = 2, 8, 8, 64\n",
    "input_tensor = torch.randn(B, H, W, C)\n",
    "\n",
    "original_attention = ImageEncoderAttention(\n",
    "    dim=C, num_heads=8, use_rel_pos=True, input_size=(H, W)\n",
    ")\n",
    "optimized_attention = FlashRelativePositionAttention(\n",
    "    dim=C, num_heads=8, use_rel_pos=True, input_size=(H, W)\n",
    ")\n",
    "original_attention.apply(initialize_weights)\n",
    "optimized_attention.load_state_dict(original_attention.state_dict())\n",
    "\n",
    "# Get outputs\n",
    "original_output = original_attention(input_tensor)\n",
    "optimized_output = optimized_attention(input_tensor)\n",
    "\n",
    "# Compare outputs\n",
    "print(\"Original Output Shape:\", original_output.shape)\n",
    "print(\"Optimized Output Shape:\", optimized_output.shape)\n",
    "print(\"Difference between outputs:\", torch.abs(original_output - optimized_output).max().item())\n",
    "print(\"torch.equal:\", torch.equal(original_output, optimized_output))"
   ]
  },
  {
   "cell_type": "code",
   "execution_count": null,
   "metadata": {},
   "outputs": [
    {
     "name": "stdout",
     "output_type": "stream",
     "text": [
      "Original Output Shape: torch.Size([2, 16, 64])\n",
      "Optimized Output Shape: torch.Size([2, 16, 64])\n",
      "Difference between outputs: 4.470348358154297e-07\n",
      "Are equal: False\n"
     ]
    }
   ],
   "source": [
    "from src.models.segment_anything.modeling.transformer import Attention, FlashAttention\n",
    "import torch\n",
    "# Test both implementations\n",
    "\n",
    "def initialize_weights(module):\n",
    "    if isinstance(module, torch.nn.Linear):\n",
    "        torch.nn.init.xavier_uniform_(module.weight)\n",
    "        if module.bias is not None:\n",
    "            torch.nn.init.zeros_(module.bias)\n",
    "            \n",
    "torch.manual_seed(42)\n",
    "batch_size, seq_len, embed_dim = 2, 16, 64\n",
    "num_heads = 8\n",
    "\n",
    "# Random input tensors\n",
    "q = torch.randn(batch_size, seq_len, embed_dim)\n",
    "k = torch.randn(batch_size, seq_len, embed_dim)\n",
    "v = torch.randn(batch_size, seq_len, embed_dim)\n",
    "\n",
    "# Instantiate both attention mechanisms\n",
    "sam_attention = Attention(embedding_dim=embed_dim, num_heads=num_heads)\n",
    "optimized_sam_attention = FlashAttention(embedding_dim=embed_dim, num_heads=num_heads)\n",
    "\n",
    "sam_attention.apply(initialize_weights)\n",
    "optimized_sam_attention.load_state_dict(sam_attention.state_dict())\n",
    "# Get outputs\n",
    "original_output = sam_attention(q, k, v)\n",
    "optimized_output = optimized_sam_attention(q, k, v)\n",
    "\n",
    "# Compare outputs\n",
    "print(\"Original Output Shape:\", original_output.shape)\n",
    "print(\"Optimized Output Shape:\", optimized_output.shape)\n",
    "print(\"Difference between outputs:\", torch.abs(original_output - optimized_output).max().item())\n",
    "print(\"Are equal:\", torch.equal(original_output, optimized_output))"
   ]
  }
 ],
 "metadata": {
  "kernelspec": {
   "display_name": "mp",
   "language": "python",
   "name": "python3"
  },
  "language_info": {
   "codemirror_mode": {
    "name": "ipython",
    "version": 3
   },
   "file_extension": ".py",
   "mimetype": "text/x-python",
   "name": "python",
   "nbconvert_exporter": "python",
   "pygments_lexer": "ipython3",
   "version": "3.10.15"
  }
 },
 "nbformat": 4,
 "nbformat_minor": 2
}
