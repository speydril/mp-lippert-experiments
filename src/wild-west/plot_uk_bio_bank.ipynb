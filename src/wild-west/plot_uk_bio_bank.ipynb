{
 "cells": [
  {
   "cell_type": "code",
   "execution_count": null,
   "metadata": {},
   "outputs": [
    {
     "name": "stdout",
     "output_type": "stream",
     "text": [
      "good 67601\n",
      "bad 100646\n"
     ]
    }
   ],
   "source": [
    "import pandas as pd\n",
    "import matplotlib.pyplot as plt\n",
    "\n",
    "csv_path = \"/dhc/home/hoangan.nguyen/mp-lippert-experiments/results/resnet_filter_experiment/biobank/ukbiobank/predictions.csv\"\n",
    "# Load the CSV file\n",
    "data = pd.read_csv(csv_path)\n",
    "threshold = 0.6\n",
    "\n",
    "# Get the third column\n",
    "positive_probs = data[\"pos_prob\"]\n",
    "\n",
    "\n",
    "# Divide the data into rows with values higher than 0.6 and lower\n",
    "good = data[positive_probs > threshold]\n",
    "bad = data[positive_probs <= threshold]\n",
    "\n",
    "# Print the counts of each group\n",
    "print(\"good\", len(good))\n",
    "print(\"bad\", len(bad))\n"
   ]
  }
 ],
 "metadata": {
  "kernelspec": {
   "display_name": "mp",
   "language": "python",
   "name": "python3"
  },
  "language_info": {
   "codemirror_mode": {
    "name": "ipython",
    "version": 3
   },
   "file_extension": ".py",
   "mimetype": "text/x-python",
   "name": "python",
   "nbconvert_exporter": "python",
   "pygments_lexer": "ipython3",
   "version": "3.10.15"
  }
 },
 "nbformat": 4,
 "nbformat_minor": 2
}
