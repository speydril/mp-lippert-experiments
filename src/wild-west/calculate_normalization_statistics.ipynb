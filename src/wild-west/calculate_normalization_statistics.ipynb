{
 "cells": [
  {
   "cell_type": "code",
   "execution_count": 1,
   "metadata": {},
   "outputs": [
    {
     "name": "stderr",
     "output_type": "stream",
     "text": [
      "/dhc/home/leon.hermann/miniforge3/envs/mp/lib/python3.10/site-packages/torchvision/io/image.py:13: UserWarning: Failed to load image Python extension: '/dhc/home/leon.hermann/miniforge3/envs/mp/lib/python3.10/site-packages/torchvision/image.so: undefined symbol: _ZN3c1017RegisterOperatorsD1Ev'If you don't plan on using image functionality from `torchvision.io`, you can ignore this warning. Otherwise, there might be something wrong with your environment. Did you have `libjpeg` or `libpng` installed before building `torchvision` from source?\n",
      "  warn(\n"
     ]
    }
   ],
   "source": [
    "from src.datasets.ukbiobank_dataset import UkBiobankDataset, UkBiobankDatasetArgs\n",
    "from src.args.yaml_config import YamlConfig\n",
    "\n",
    "yaml_config = YamlConfig().config\n",
    "config = UkBiobankDatasetArgs()"
   ]
  },
  {
   "cell_type": "code",
   "execution_count": 2,
   "metadata": {},
   "outputs": [],
   "source": [
    "ds = UkBiobankDataset(config, yaml_config)"
   ]
  },
  {
   "cell_type": "code",
   "execution_count": null,
   "metadata": {},
   "outputs": [],
   "source": [
    "# Calculate mean and std over the whole dataset input tensors\n",
    "r_mean = g_mean = b_mean = 0\n",
    "r_std = g_std = b_std = 0\n",
    "for x in ds:\n",
    "    r_mean += x.input[0].mean().item()\n",
    "    g_mean += x.input[1].mean().item()\n",
    "    b_mean += x.input[2].mean().item()\n",
    "    r_std += x.input[0].std().item()\n",
    "    g_std += x.input[1].std().item()\n",
    "    b_std += x.input[2].std().item()\n",
    "    \n",
    "r_mean /= len(ds)\n",
    "g_mean /= len(ds)\n",
    "b_mean /= len(ds)\n",
    "r_std /= len(ds)\n",
    "g_std /= len(ds)\n",
    "b_std /= len(ds)"
   ]
  },
  {
   "cell_type": "code",
   "execution_count": null,
   "metadata": {},
   "outputs": [],
   "source": [
    "r_mean, g_mean, b_mean, r_std, g_std, b_std"
   ]
  },
  {
   "cell_type": "code",
   "execution_count": 11,
   "metadata": {},
   "outputs": [
    {
     "name": "stderr",
     "output_type": "stream",
     "text": [
      "  0%|          | 0/20 [00:00<?, ?it/s]"
     ]
    },
    {
     "name": "stderr",
     "output_type": "stream",
     "text": [
      "100%|██████████| 20/20 [00:00<00:00, 118.67it/s]\n"
     ]
    },
    {
     "data": {
      "text/plain": [
       "((126.83705940246583, 69.01545963287353, 41.42158527374268),\n",
       " (84.57076034545898, 45.480291080474856, 25.175041437149048))"
      ]
     },
     "execution_count": 11,
     "metadata": {},
     "output_type": "execute_result"
    }
   ],
   "source": [
    "from src.datasets.drive_dataset import DriveDataset, DriveDatasetArgs\n",
    "from src.args.yaml_config import YamlConfig\n",
    "import cv2\n",
    "import torch\n",
    "from src.util.image_util import calculate_rgb_mean_std\n",
    "ds = DriveDataset(DriveDatasetArgs(), YamlConfig().config)\n",
    "\n",
    "\n",
    "calculate_rgb_mean_std([s.img_path for s in ds.samples])"
   ]
  },
  {
   "cell_type": "code",
   "execution_count": 2,
   "metadata": {},
   "outputs": [
    {
     "data": {
      "text/plain": [
       "(0.04740412979351032,\n",
       " 0.035486725663716814,\n",
       " 0.0784070796460177,\n",
       " 0.16860154981068015,\n",
       " 0.1357998391212243,\n",
       " 0.21548826363551118)"
      ]
     },
     "execution_count": 2,
     "metadata": {},
     "output_type": "execute_result"
    }
   ],
   "source": [
    "r_mean, g_mean, b_mean, r_std, g_std, b_std\n"
   ]
  }
 ],
 "metadata": {
  "kernelspec": {
   "display_name": "autosam",
   "language": "python",
   "name": "python3"
  },
  "language_info": {
   "codemirror_mode": {
    "name": "ipython",
    "version": 3
   },
   "file_extension": ".py",
   "mimetype": "text/x-python",
   "name": "python",
   "nbconvert_exporter": "python",
   "pygments_lexer": "ipython3",
   "version": "3.10.8"
  }
 },
 "nbformat": 4,
 "nbformat_minor": 2
}
