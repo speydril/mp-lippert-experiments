{
 "cells": [
  {
   "cell_type": "code",
   "execution_count": 1,
   "metadata": {},
   "outputs": [
    {
     "name": "stderr",
     "output_type": "stream",
     "text": [
      "/dhc/home/leon.hermann/miniforge3/envs/mp/lib/python3.10/site-packages/torchvision/io/image.py:13: UserWarning: Failed to load image Python extension: '/dhc/home/leon.hermann/miniforge3/envs/mp/lib/python3.10/site-packages/torchvision/image.so: undefined symbol: _ZN3c1017RegisterOperatorsD1Ev'If you don't plan on using image functionality from `torchvision.io`, you can ignore this warning. Otherwise, there might be something wrong with your environment. Did you have `libjpeg` or `libpng` installed before building `torchvision` from source?\n",
      "  warn(\n"
     ]
    }
   ],
   "source": [
    "from src.datasets.ukbiobank_dataset import UkBiobankDataset, UkBiobankDatasetArgs\n",
    "from src.args.yaml_config import YamlConfig\n",
    "\n",
    "yaml_config = YamlConfig().config\n",
    "config = UkBiobankDatasetArgs()"
   ]
  },
  {
   "cell_type": "code",
   "execution_count": 2,
   "metadata": {},
   "outputs": [],
   "source": [
    "ds = UkBiobankDataset(config, yaml_config)"
   ]
  },
  {
   "cell_type": "code",
   "execution_count": null,
   "metadata": {},
   "outputs": [],
   "source": [
    "# Calculate mean and std over the whole dataset input tensors\n",
    "r_mean = g_mean = b_mean = 0\n",
    "r_std = g_std = b_std = 0\n",
    "for x in ds:\n",
    "    r_mean += x.input[0].mean().item()\n",
    "    g_mean += x.input[1].mean().item()\n",
    "    b_mean += x.input[2].mean().item()\n",
    "    r_std += x.input[0].std().item()\n",
    "    g_std += x.input[1].std().item()\n",
    "    b_std += x.input[2].std().item()\n",
    "    \n",
    "r_mean /= len(ds)\n",
    "g_mean /= len(ds)\n",
    "b_mean /= len(ds)\n",
    "r_std /= len(ds)\n",
    "g_std /= len(ds)\n",
    "b_std /= len(ds)"
   ]
  },
  {
   "cell_type": "code",
   "execution_count": null,
   "metadata": {},
   "outputs": [],
   "source": [
    "r_mean, g_mean, b_mean, r_std, g_std, b_std"
   ]
  }
 ],
 "metadata": {
  "kernelspec": {
   "display_name": "mp",
   "language": "python",
   "name": "python3"
  },
  "language_info": {
   "codemirror_mode": {
    "name": "ipython",
    "version": 3
   },
   "file_extension": ".py",
   "mimetype": "text/x-python",
   "name": "python",
   "nbconvert_exporter": "python",
   "pygments_lexer": "ipython3",
   "version": "3.10.12"
  }
 },
 "nbformat": 4,
 "nbformat_minor": 2
}
