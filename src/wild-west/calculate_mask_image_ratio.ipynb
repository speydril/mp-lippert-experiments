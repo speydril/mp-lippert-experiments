{
 "cells": [
  {
   "cell_type": "code",
   "execution_count": 2,
   "metadata": {},
   "outputs": [],
   "source": [
    "from src.datasets.joined_retina_dataset import JoinedRetinaDataset, JoinedRetinaDatasetArgs\n",
    "from src.args.yaml_config import YamlConfig\n",
    "\n",
    "\n",
    "yaml_config = YamlConfig().config\n",
    "config = JoinedRetinaDatasetArgs()\n",
    "\n",
    "ds = JoinedRetinaDataset.from_config(config, yaml_config, 1)"
   ]
  },
  {
   "cell_type": "code",
   "execution_count": 8,
   "metadata": {},
   "outputs": [],
   "source": [
    "import numpy as np\n",
    "\n",
    "ratios = []\n",
    "\n",
    "for sample in ds:\n",
    "    mask = sample.target\n",
    "    blood_vessel_pixels = mask.sum()\n",
    "    blood_vessel_ratio = blood_vessel_pixels / mask.numel()\n",
    "    ratios.append(blood_vessel_ratio)\n",
    "    \n",
    "ratios = np.array(ratios)"
   ]
  },
  {
   "cell_type": "code",
   "execution_count": 9,
   "metadata": {},
   "outputs": [
    {
     "name": "stdout",
     "output_type": "stream",
     "text": [
      "0.019212723 0.1537199 0.060006276 0.02174653\n"
     ]
    }
   ],
   "source": [
    "print(ratios.min(), ratios.max(), ratios.mean(), ratios.std())"
   ]
  }
 ],
 "metadata": {
  "kernelspec": {
   "display_name": "mp",
   "language": "python",
   "name": "python3"
  },
  "language_info": {
   "codemirror_mode": {
    "name": "ipython",
    "version": 3
   },
   "file_extension": ".py",
   "mimetype": "text/x-python",
   "name": "python",
   "nbconvert_exporter": "python",
   "pygments_lexer": "ipython3",
   "version": "3.10.12"
  }
 },
 "nbformat": 4,
 "nbformat_minor": 2
}
