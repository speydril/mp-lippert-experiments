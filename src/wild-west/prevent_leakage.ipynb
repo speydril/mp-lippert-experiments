{
 "cells": [
  {
   "cell_type": "markdown",
   "metadata": {},
   "source": [
    "# Ensure no data leakage across experiment steps (baseline training, offline ST, final finetuning)\n",
    "Also ensure that patching does not leak samples (i.e. if limiting to 6 original samples, doing 4-patching and limit_train_samples=6*4, it should only include the same samples as with no patching and limit_train_samples=6)"
   ]
  },
  {
   "cell_type": "markdown",
   "metadata": {},
   "source": [
    "## Get unique origin sample ids used within offlineST experiment"
   ]
  },
  {
   "cell_type": "code",
   "execution_count": 1,
   "metadata": {},
   "outputs": [
    {
     "name": "stderr",
     "output_type": "stream",
     "text": [
      "/dhc/home/tobias.fiedler/conda3/envs/autosam/lib/python3.10/site-packages/torchvision/io/image.py:13: UserWarning: Failed to load image Python extension: '/dhc/home/tobias.fiedler/conda3/envs/autosam/lib/python3.10/site-packages/torchvision/image.so: undefined symbol: _ZN3c1017RegisterOperatorsD1Ev'If you don't plan on using image functionality from `torchvision.io`, you can ignore this warning. Otherwise, there might be something wrong with your environment. Did you have `libjpeg` or `libpng` installed before building `torchvision` from source?\n",
      "  warn(\n",
      "/dhc/home/tobias.fiedler/conda3/envs/autosam/lib/python3.10/site-packages/pydantic/main.py:292: UserWarning: Pydantic serializer warnings:\n",
      "  Expected `float` but got `int` - serialized value may not be as expected\n",
      "  return self.__pydantic_serializer__.to_python(\n",
      "/dhc/home/tobias.fiedler/mp-lippert-experiments/src/models/segment_anything/build_sam.py:118: FutureWarning: You are using `torch.load` with `weights_only=False` (the current default value), which uses the default pickle module implicitly. It is possible to construct malicious pickle data which will execute arbitrary code during unpickling (See https://github.com/pytorch/pytorch/blob/main/SECURITY.md#untrusted-models for more details). In a future release, the default value for `weights_only` will be flipped to `True`. This limits the functions that could be executed during unpickling. Arbitrary objects will no longer be allowed to be loaded via this mode unless they are explicitly allowlisted by the user via `torch.serialization.add_safe_globals`. We recommend you start setting `weights_only=True` for any use case where you don't have full control of the loaded file. Please open an issue on GitHub for any issues related to this experimental feature.\n",
      "  state_dict = torch.load(f)\n",
      "/dhc/home/tobias.fiedler/mp-lippert-experiments/src/models/auto_sam_prompt_encoder/hardnet.py:228: FutureWarning: You are using `torch.load` with `weights_only=False` (the current default value), which uses the default pickle module implicitly. It is possible to construct malicious pickle data which will execute arbitrary code during unpickling (See https://github.com/pytorch/pytorch/blob/main/SECURITY.md#untrusted-models for more details). In a future release, the default value for `weights_only` will be flipped to `True`. This limits the functions that could be executed during unpickling. Arbitrary objects will no longer be allowed to be loaded via this mode unless they are explicitly allowlisted by the user via `torch.serialization.add_safe_globals`. We recommend you start setting `weights_only=True` for any use case where you don't have full control of the loaded file. Please open an issue on GitHub for any issues related to this experimental feature.\n",
      "  self.load_state_dict(torch.load(hard_net_cp))\n"
     ]
    },
    {
     "name": "stdout",
     "output_type": "stream",
     "text": [
      "ImageNet pretrained weights for HarDNet68 is loaded\n",
      "Batch 31/5122\n"
     ]
    },
    {
     "data": {
      "text/plain": [
       "{'ARIASample_12',\n",
       " 'ARIASample_78',\n",
       " 'ARIASample_87',\n",
       " 'ARIASample_90',\n",
       " 'ChaseDb1Sample_28',\n",
       " 'DriveSample_9',\n",
       " 'STARESample_3',\n",
       " 'STARESample_7'}"
      ]
     },
     "execution_count": 1,
     "metadata": {},
     "output_type": "execute_result"
    }
   ],
   "source": [
    "from src.experiments.offlinest_experiment import (\n",
    "    OfflineSTExperiment,\n",
    "    OfflineSTExperimentArgs,\n",
    ")\n",
    "from src.args.yaml_config import YamlConfig\n",
    "\n",
    "yaml_config = YamlConfig().config\n",
    "exp = OfflineSTExperiment(\n",
    "    OfflineSTExperimentArgs(\n",
    "        sam_model=\"vit_b\",\n",
    "        experiment_id=\"offline_st\",\n",
    "        wandb_tags=[],\n",
    "        batch_size=32,\n",
    "        pseudo_labels_dir=\"teacher_8_samples_not_thresholded\",\n",
    "        gt_limit=8,\n",
    "        labelled_ratio=0.25\n",
    "    ).model_dump(),\n",
    "    yaml_config,\n",
    ")\n",
    "\n",
    "dl = exp._create_dataloader(\"train\")\n",
    "\n",
    "sample = {}\n",
    "n = 0\n",
    "for i, batch in enumerate(dl):\n",
    "    print(f\"Batch {i}/{len(dl)}\\r\", end=\"\")\n",
    "    for s in batch.metadata[\"sample_metadata\"]:\n",
    "        if s[\"origin_dataset\"] not in sample:\n",
    "            sample[s[\"origin_dataset\"]] = list()\n",
    "        sample[s[\"origin_dataset\"]].append(s)\n",
    "        n += 1\n",
    "    if n > 1000:\n",
    "        break\n",
    "print()\n",
    "\n",
    "sample_ids = [f\"{s['origin_class']}_{s['source_idx']}\" for s in sample[\"gt\"]]\n",
    "set(sample_ids)"
   ]
  },
  {
   "cell_type": "markdown",
   "metadata": {},
   "source": [
    "# Get unique origin sample ids used within baseline training and final finetuning (both equal)"
   ]
  },
  {
   "cell_type": "code",
   "execution_count": 3,
   "metadata": {},
   "outputs": [],
   "source": [
    "from typing import Literal\n",
    "from src.experiments.multi_ds_vessel_experiment import (\n",
    "    MultiDsVesselExperiment,\n",
    "    MultiDSVesselExperimentArgs,\n",
    ")\n",
    "from src.args.yaml_config import YamlConfig\n",
    "\n",
    "yaml_config = YamlConfig().config\n",
    "\n",
    "def get_sample_idxs(gt_limit: int, patching: Literal[4,16]|None=None):\n",
    "    exp = MultiDsVesselExperiment(\n",
    "        MultiDSVesselExperimentArgs(\n",
    "            sam_model=\"vit_b\",\n",
    "            wandb_tags=[],\n",
    "            experiment_id=\"multi_vessel_ds\",\n",
    "            limit_train_samples=gt_limit * (patching if patching is not None else 1),\n",
    "            batch_size=3,\n",
    "            patch_samples=patching,\n",
    "        ).model_dump(),\n",
    "        yaml_config,\n",
    "    )\n",
    "\n",
    "\n",
    "    dl = exp._create_dataloader(\"train\")\n",
    "\n",
    "    unique_origin_sample_idx = set()\n",
    "    total = 0\n",
    "    for i, batch in enumerate(dl):\n",
    "        print(f\"Batch {i}\\r\", end=\"\")\n",
    "        for s in batch.metadata[\"sample_metadata\"]:\n",
    "            total += 1\n",
    "            unique_origin_sample_idx.add(s[\"origin_sample_idx\"])\n",
    "    return unique_origin_sample_idx"
   ]
  },
  {
   "cell_type": "code",
   "execution_count": 4,
   "metadata": {},
   "outputs": [
    {
     "name": "stderr",
     "output_type": "stream",
     "text": [
      "/dhc/home/tobias.fiedler/conda3/envs/autosam/lib/python3.10/site-packages/pydantic/main.py:292: UserWarning: Pydantic serializer warnings:\n",
      "  Expected `float` but got `int` - serialized value may not be as expected\n",
      "  return self.__pydantic_serializer__.to_python(\n",
      "/dhc/home/tobias.fiedler/mp-lippert-experiments/src/models/segment_anything/build_sam.py:118: FutureWarning: You are using `torch.load` with `weights_only=False` (the current default value), which uses the default pickle module implicitly. It is possible to construct malicious pickle data which will execute arbitrary code during unpickling (See https://github.com/pytorch/pytorch/blob/main/SECURITY.md#untrusted-models for more details). In a future release, the default value for `weights_only` will be flipped to `True`. This limits the functions that could be executed during unpickling. Arbitrary objects will no longer be allowed to be loaded via this mode unless they are explicitly allowlisted by the user via `torch.serialization.add_safe_globals`. We recommend you start setting `weights_only=True` for any use case where you don't have full control of the loaded file. Please open an issue on GitHub for any issues related to this experimental feature.\n",
      "  state_dict = torch.load(f)\n",
      "/dhc/home/tobias.fiedler/mp-lippert-experiments/src/models/auto_sam_prompt_encoder/hardnet.py:228: FutureWarning: You are using `torch.load` with `weights_only=False` (the current default value), which uses the default pickle module implicitly. It is possible to construct malicious pickle data which will execute arbitrary code during unpickling (See https://github.com/pytorch/pytorch/blob/main/SECURITY.md#untrusted-models for more details). In a future release, the default value for `weights_only` will be flipped to `True`. This limits the functions that could be executed during unpickling. Arbitrary objects will no longer be allowed to be loaded via this mode unless they are explicitly allowlisted by the user via `torch.serialization.add_safe_globals`. We recommend you start setting `weights_only=True` for any use case where you don't have full control of the loaded file. Please open an issue on GitHub for any issues related to this experimental feature.\n",
      "  self.load_state_dict(torch.load(hard_net_cp))\n"
     ]
    },
    {
     "name": "stdout",
     "output_type": "stream",
     "text": [
      "ImageNet pretrained weights for HarDNet68 is loaded\n",
      "Batch 10\n",
      "\n",
      "\n",
      "\n",
      "GT 8, 4 patching {'ARIADataset_78', 'STAREDataset_7', 'ARIADataset_90', 'ARIADataset_87', 'ChaseDb1Dataset_28', 'DriveDataset_9', 'ARIADataset_12', 'STAREDataset_3'}\n"
     ]
    }
   ],
   "source": [
    "# print(\"GT 6, 4 patching\", get_sample_idxs(6, 4))\n",
    "# print(\"GT 6, 16 patching\", get_sample_idxs(6, 16))\n",
    "# print(\"GT 6, no patching\", get_sample_idxs(6, None))\n",
    "\n",
    "print(\"\\n\\n\\n\\nGT 8, 4 patching\", get_sample_idxs(8, 4))\n",
    "#print(\"\\n\\n\\n\\nGT 8, 16 patching\", get_sample_idxs(8, 16))\n",
    "#print(\"\\n\\n\\n\\nGT 8, no patching\", get_sample_idxs(8, None))"
   ]
  }
 ],
 "metadata": {
  "kernelspec": {
   "display_name": "autosam",
   "language": "python",
   "name": "python3"
  },
  "language_info": {
   "codemirror_mode": {
    "name": "ipython",
    "version": 3
   },
   "file_extension": ".py",
   "mimetype": "text/x-python",
   "name": "python",
   "nbconvert_exporter": "python",
   "pygments_lexer": "ipython3",
   "version": "3.10.8"
  }
 },
 "nbformat": 4,
 "nbformat_minor": 2
}
